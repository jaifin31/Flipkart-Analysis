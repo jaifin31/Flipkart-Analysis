{
 "cells": [
  {
   "cell_type": "code",
   "execution_count": 23,
   "id": "4074f4b2",
   "metadata": {},
   "outputs": [],
   "source": [
    "import numpy as np\n",
    "import pandas as pd\n",
    "import ast\n",
    "import plotly.express as px\n",
    "from plotly import graph_objects as go"
   ]
  },
  {
   "cell_type": "code",
   "execution_count": 24,
   "id": "369688f8",
   "metadata": {},
   "outputs": [
    {
     "name": "stderr",
     "output_type": "stream",
     "text": [
      "C:\\Users\\Jaifin\\AppData\\Local\\Temp\\ipykernel_10924\\417178552.py:1: DtypeWarning: Columns (0,1,2,3) have mixed types. Specify dtype option on import or set low_memory=False.\n",
      "  df =  pd.read_csv(\"C:/Users/Jaifin/Desktop/Tracker/Flipkart-Analysis/Dataset.csv\")\n"
     ]
    },
    {
     "data": {
      "text/html": [
       "<div>\n",
       "<style scoped>\n",
       "    .dataframe tbody tr th:only-of-type {\n",
       "        vertical-align: middle;\n",
       "    }\n",
       "\n",
       "    .dataframe tbody tr th {\n",
       "        vertical-align: top;\n",
       "    }\n",
       "\n",
       "    .dataframe thead th {\n",
       "        text-align: right;\n",
       "    }\n",
       "</style>\n",
       "<table border=\"1\" class=\"dataframe\">\n",
       "  <thead>\n",
       "    <tr style=\"text-align: right;\">\n",
       "      <th></th>\n",
       "      <th>product_url</th>\n",
       "      <th>product_name</th>\n",
       "      <th>product_category_tree</th>\n",
       "      <th>pid</th>\n",
       "      <th>retail_price</th>\n",
       "      <th>discounted_price</th>\n",
       "      <th>01-11-2022</th>\n",
       "    </tr>\n",
       "  </thead>\n",
       "  <tbody>\n",
       "    <tr>\n",
       "      <th>0</th>\n",
       "      <td>http://www.flipkart.com/alisha-solid-women-s-c...</td>\n",
       "      <td>Alisha Solid Women's Cycling Shorts</td>\n",
       "      <td>[\"Clothing &gt;&gt; Women's Clothing &gt;&gt; Lingerie, Sl...</td>\n",
       "      <td>SRTEH2FF9KEDEFGF</td>\n",
       "      <td>999.0</td>\n",
       "      <td>379.0</td>\n",
       "      <td>01-11-2022</td>\n",
       "    </tr>\n",
       "    <tr>\n",
       "      <th>1</th>\n",
       "      <td>http://www.flipkart.com/fabhomedecor-fabric-do...</td>\n",
       "      <td>FabHomeDecor Fabric Double Sofa Bed</td>\n",
       "      <td>[\"Furniture &gt;&gt; Living Room Furniture &gt;&gt; Sofa B...</td>\n",
       "      <td>SBEEH3QGU7MFYJFY</td>\n",
       "      <td>32157.0</td>\n",
       "      <td>22646.0</td>\n",
       "      <td>01-11-2022</td>\n",
       "    </tr>\n",
       "    <tr>\n",
       "      <th>2</th>\n",
       "      <td>http://www.flipkart.com/aw-bellies/p/itmeh4grg...</td>\n",
       "      <td>AW Bellies</td>\n",
       "      <td>[\"Footwear &gt;&gt; Women's Footwear &gt;&gt; Ballerinas &gt;...</td>\n",
       "      <td>SHOEH4GRSUBJGZXE</td>\n",
       "      <td>999.0</td>\n",
       "      <td>499.0</td>\n",
       "      <td>01-11-2022</td>\n",
       "    </tr>\n",
       "    <tr>\n",
       "      <th>3</th>\n",
       "      <td>http://www.flipkart.com/alisha-solid-women-s-c...</td>\n",
       "      <td>Alisha Solid Women's Cycling Shorts</td>\n",
       "      <td>[\"Clothing &gt;&gt; Women's Clothing &gt;&gt; Lingerie, Sl...</td>\n",
       "      <td>SRTEH2F6HUZMQ6SJ</td>\n",
       "      <td>699.0</td>\n",
       "      <td>267.0</td>\n",
       "      <td>01-11-2022</td>\n",
       "    </tr>\n",
       "    <tr>\n",
       "      <th>4</th>\n",
       "      <td>http://www.flipkart.com/sicons-all-purpose-arn...</td>\n",
       "      <td>Sicons All Purpose Arnica Dog Shampoo</td>\n",
       "      <td>[\"Pet Supplies &gt;&gt; Grooming &gt;&gt; Skin &amp; Coat Care...</td>\n",
       "      <td>PSOEH3ZYDMSYARJ5</td>\n",
       "      <td>220.0</td>\n",
       "      <td>210.0</td>\n",
       "      <td>01-11-2022</td>\n",
       "    </tr>\n",
       "    <tr>\n",
       "      <th>...</th>\n",
       "      <td>...</td>\n",
       "      <td>...</td>\n",
       "      <td>...</td>\n",
       "      <td>...</td>\n",
       "      <td>...</td>\n",
       "      <td>...</td>\n",
       "      <td>...</td>\n",
       "    </tr>\n",
       "    <tr>\n",
       "      <th>1048570</th>\n",
       "      <td>NaN</td>\n",
       "      <td>NaN</td>\n",
       "      <td>NaN</td>\n",
       "      <td>NaN</td>\n",
       "      <td>NaN</td>\n",
       "      <td>NaN</td>\n",
       "      <td>NaN</td>\n",
       "    </tr>\n",
       "    <tr>\n",
       "      <th>1048571</th>\n",
       "      <td>NaN</td>\n",
       "      <td>NaN</td>\n",
       "      <td>NaN</td>\n",
       "      <td>NaN</td>\n",
       "      <td>NaN</td>\n",
       "      <td>NaN</td>\n",
       "      <td>NaN</td>\n",
       "    </tr>\n",
       "    <tr>\n",
       "      <th>1048572</th>\n",
       "      <td>NaN</td>\n",
       "      <td>NaN</td>\n",
       "      <td>NaN</td>\n",
       "      <td>NaN</td>\n",
       "      <td>NaN</td>\n",
       "      <td>NaN</td>\n",
       "      <td>NaN</td>\n",
       "    </tr>\n",
       "    <tr>\n",
       "      <th>1048573</th>\n",
       "      <td>NaN</td>\n",
       "      <td>NaN</td>\n",
       "      <td>NaN</td>\n",
       "      <td>NaN</td>\n",
       "      <td>NaN</td>\n",
       "      <td>NaN</td>\n",
       "      <td>NaN</td>\n",
       "    </tr>\n",
       "    <tr>\n",
       "      <th>1048574</th>\n",
       "      <td>NaN</td>\n",
       "      <td>NaN</td>\n",
       "      <td>NaN</td>\n",
       "      <td>NaN</td>\n",
       "      <td>NaN</td>\n",
       "      <td>NaN</td>\n",
       "      <td>NaN</td>\n",
       "    </tr>\n",
       "  </tbody>\n",
       "</table>\n",
       "<p>1048575 rows × 7 columns</p>\n",
       "</div>"
      ],
      "text/plain": [
       "                                               product_url  \\\n",
       "0        http://www.flipkart.com/alisha-solid-women-s-c...   \n",
       "1        http://www.flipkart.com/fabhomedecor-fabric-do...   \n",
       "2        http://www.flipkart.com/aw-bellies/p/itmeh4grg...   \n",
       "3        http://www.flipkart.com/alisha-solid-women-s-c...   \n",
       "4        http://www.flipkart.com/sicons-all-purpose-arn...   \n",
       "...                                                    ...   \n",
       "1048570                                                NaN   \n",
       "1048571                                                NaN   \n",
       "1048572                                                NaN   \n",
       "1048573                                                NaN   \n",
       "1048574                                                NaN   \n",
       "\n",
       "                                  product_name  \\\n",
       "0          Alisha Solid Women's Cycling Shorts   \n",
       "1          FabHomeDecor Fabric Double Sofa Bed   \n",
       "2                                   AW Bellies   \n",
       "3          Alisha Solid Women's Cycling Shorts   \n",
       "4        Sicons All Purpose Arnica Dog Shampoo   \n",
       "...                                        ...   \n",
       "1048570                                    NaN   \n",
       "1048571                                    NaN   \n",
       "1048572                                    NaN   \n",
       "1048573                                    NaN   \n",
       "1048574                                    NaN   \n",
       "\n",
       "                                     product_category_tree               pid  \\\n",
       "0        [\"Clothing >> Women's Clothing >> Lingerie, Sl...  SRTEH2FF9KEDEFGF   \n",
       "1        [\"Furniture >> Living Room Furniture >> Sofa B...  SBEEH3QGU7MFYJFY   \n",
       "2        [\"Footwear >> Women's Footwear >> Ballerinas >...  SHOEH4GRSUBJGZXE   \n",
       "3        [\"Clothing >> Women's Clothing >> Lingerie, Sl...  SRTEH2F6HUZMQ6SJ   \n",
       "4        [\"Pet Supplies >> Grooming >> Skin & Coat Care...  PSOEH3ZYDMSYARJ5   \n",
       "...                                                    ...               ...   \n",
       "1048570                                                NaN               NaN   \n",
       "1048571                                                NaN               NaN   \n",
       "1048572                                                NaN               NaN   \n",
       "1048573                                                NaN               NaN   \n",
       "1048574                                                NaN               NaN   \n",
       "\n",
       "         retail_price  discounted_price  01-11-2022  \n",
       "0               999.0             379.0  01-11-2022  \n",
       "1             32157.0           22646.0  01-11-2022  \n",
       "2               999.0             499.0  01-11-2022  \n",
       "3               699.0             267.0  01-11-2022  \n",
       "4               220.0             210.0  01-11-2022  \n",
       "...               ...               ...         ...  \n",
       "1048570           NaN               NaN         NaN  \n",
       "1048571           NaN               NaN         NaN  \n",
       "1048572           NaN               NaN         NaN  \n",
       "1048573           NaN               NaN         NaN  \n",
       "1048574           NaN               NaN         NaN  \n",
       "\n",
       "[1048575 rows x 7 columns]"
      ]
     },
     "execution_count": 24,
     "metadata": {},
     "output_type": "execute_result"
    }
   ],
   "source": [
    "df =  pd.read_csv(\"C:/Users/Jaifin/Desktop/Tracke/rFlipkart-Analysis/Dataset.csv\")\n",
    "\n",
    "grouped = df.groupby('product_url')\n",
    "df"
   ]
  },
  {
   "cell_type": "code",
   "execution_count": 22,
   "id": "9ef8d644",
   "metadata": {},
   "outputs": [],
   "source": [
    "# print(df.isnull().sum())\n",
    "\n",
    "# df[\"retail_price\"].fillna(df[\"retail_price\"].median(),inplace=True)\n",
    "# df[\"discounted_price\"].fillna(df[\"discounted_price\"].median(),inplace=True)\n",
    "\n"
   ]
  },
  {
   "cell_type": "code",
   "execution_count": null,
   "id": "7984fc1e",
   "metadata": {},
   "outputs": [],
   "source": [
    "# x=df['retail_price']-df['discounted_price']\n",
    "# y=(x/df['retail_price'])*100\n",
    "# df['discount_percentage']=y\n",
    "# df['discount_percentage']\n"
   ]
  },
  {
   "cell_type": "code",
   "execution_count": null,
   "id": "764d6c83",
   "metadata": {},
   "outputs": [],
   "source": [
    "#  df['main_category']=df['product_category_tree'].apply(lambda x :x.split('>>')[0][2:len(x.split('>>')[0])-1])\n",
    "#  df['main_category']"
   ]
  },
  {
   "cell_type": "code",
   "execution_count": null,
   "id": "5d067c0c",
   "metadata": {},
   "outputs": [],
   "source": [
    "# n=10\n",
    "# top_products=pd.DataFrame(df['main_category'].value_counts()  [:n]).reset_index()\n",
    "# top_products.rename(columns = {'index':'Top_Products','main_category':'Total_Count'}, inplace = True)\n",
    "# top_products"
   ]
  },
  {
   "cell_type": "code",
   "execution_count": null,
   "id": "c1a0d49c",
   "metadata": {},
   "outputs": [],
   "source": [
    "from plotly.subplots import make_subplots"
   ]
  },
  {
   "cell_type": "code",
   "execution_count": null,
   "id": "56df52de",
   "metadata": {},
   "outputs": [],
   "source": [
    "#  label1 = top_products['Top_Products']\n",
    "#  value1=top_products['Total_Count']\n",
    "#  label1 "
   ]
  },
  {
   "cell_type": "code",
   "execution_count": null,
   "id": "faa5d35a",
   "metadata": {},
   "outputs": [],
   "source": [
    "fig_both = make_subplots(rows=1, cols=2, specs=[[{'type':'domain'}, {'type':'domain'}]])\n",
    "fig_both.add_trace(go.Pie(labels=label1, values=value1, name=\"Top Products\",pull=[0.3, 0, 0, 0]),1, 1)"
   ]
  },
  {
   "cell_type": "code",
   "execution_count": 11,
   "id": "98852062",
   "metadata": {},
   "outputs": [
    {
     "ename": "NameError",
     "evalue": "name 'fig_both' is not defined",
     "output_type": "error",
     "traceback": [
      "\u001b[1;31m---------------------------------------------------------------------------\u001b[0m",
      "\u001b[1;31mNameError\u001b[0m                                 Traceback (most recent call last)",
      "\u001b[1;32m~\\AppData\\Local\\Temp\\ipykernel_10924\\3919804559.py\u001b[0m in \u001b[0;36m<module>\u001b[1;34m\u001b[0m\n\u001b[1;32m----> 1\u001b[1;33m \u001b[0mfig_both\u001b[0m\u001b[1;33m.\u001b[0m\u001b[0mupdate_traces\u001b[0m\u001b[1;33m(\u001b[0m\u001b[0mhole\u001b[0m\u001b[1;33m=\u001b[0m\u001b[1;36m.5\u001b[0m\u001b[1;33m,\u001b[0m \u001b[0mhoverinfo\u001b[0m\u001b[1;33m=\u001b[0m\u001b[1;34m\"label+percent+name\"\u001b[0m\u001b[1;33m)\u001b[0m\u001b[1;33m\u001b[0m\u001b[1;33m\u001b[0m\u001b[0m\n\u001b[0m",
      "\u001b[1;31mNameError\u001b[0m: name 'fig_both' is not defined"
     ]
    }
   ],
   "source": [
    "fig_both.update_traces(hole=.5, hoverinfo=\"label+percent+name\")"
   ]
  },
  {
   "cell_type": "code",
   "execution_count": 28,
   "id": "0b951764",
   "metadata": {},
   "outputs": [
    {
     "ename": "SyntaxError",
     "evalue": "invalid syntax (4163960609.py, line 20)",
     "output_type": "error",
     "traceback": [
      "\u001b[1;36m  File \u001b[1;32m\"C:\\Users\\Jaifin\\AppData\\Local\\Temp\\ipykernel_10924\\4163960609.py\"\u001b[1;36m, line \u001b[1;32m20\u001b[0m\n\u001b[1;33m    df_date.append(row['Date'])\u001b[0m\n\u001b[1;37m    ^\u001b[0m\n\u001b[1;31mSyntaxError\u001b[0m\u001b[1;31m:\u001b[0m invalid syntax\n"
     ]
    }
   ],
   "source": [
    "#row = df.loc[df['product_url'] == 'http://www.flipkart.com/alisha-solid-women-s-cycling-shorts/p/itmeh2ffvzetthbb?pid=SRTEH2FF9KEDEFGF']\n",
    "#df_date_retail = pd.DataFrame(df[\"retail_price\"].row.reset_index())\n",
    "#df_date_discount = pd.DataFrame(df.groupby(\"Date\")[[\"discounted_price\"]].median().reset_index())\n",
    "#df_date_price=pd.concat([df_date_retail,df_date_discount],axis=1)\n",
    "#df_date_price = df_date_price.loc[:,~df_date_price.columns.duplicated()] #remove duplicate columns\n",
    "#print(df[df['product_url'].str.contains('http://www.flipkart.com/alisha-solid-women-s-cycling-shorts/p/itmeh2ffvzetthbb?pid=SRTEH2FF9KEDEFGF')])\n",
    "#print('http://www.flipkart.com/alisha-solid-women-s-cycling-shorts/p/itmeh2ffvzetthbb?pid=SRTEH2FF9KEDEFGF' in df['product_url'].values)\n",
    "\n",
    "\n",
    "\n",
    "df_date_retail=[]\n",
    "df_date_discount=[]\n",
    "df_date=[]\n",
    "\n",
    "url=input(\"Enter the url\")\n",
    "for index,row in df.iterrows():\n",
    "    if row['product_url'] == url:\n",
    "        df_date_retail.append(float(row['retail_price']))\n",
    "        df_date_discount.append(float(row['discounted_price']))\n",
    "        df_date.append(row['Date']) \n",
    " print(df_date_retail)\n",
    "\n",
    " \n",
    "\n",
    "        #df_date_price=pd.concat([df_date_retail,df_date_discount],axis=1)\n",
    "        #df_date_price = df_date_price.loc[:,~df_date_price.columns.duplicated()]"
   ]
  },
  {
   "cell_type": "code",
   "execution_count": 7,
   "id": "18314406",
   "metadata": {},
   "outputs": [],
   "source": [
    "# import seaborn as sns\n",
    "# sns.scatterplot(x=x, y=y)\n",
    "\n",
    "# pd\n"
   ]
  },
  {
   "cell_type": "code",
   "execution_count": 16,
   "id": "264dde32",
   "metadata": {},
   "outputs": [],
   "source": [
    "# x,y"
   ]
  },
  {
   "cell_type": "code",
   "execution_count": 17,
   "id": "4cd763ae",
   "metadata": {},
   "outputs": [],
   "source": [
    "# x=df_date_price['Date']\n",
    "# y1=df_date_price['retail_price']\n",
    "# y2=df_date_price['discounted_price']\n",
    "grouped = df.groupby('product_url')"
   ]
  },
  {
   "cell_type": "code",
   "execution_count": 18,
   "id": "f3c39a56",
   "metadata": {},
   "outputs": [],
   "source": [
    "# fig_area2 = go.Figure()\n",
    "# fig_area2.add_trace(go.Scatter(df_date,df_date_retail, fill='tozeroy',name='retail price',\n",
    "#                                line=dict(width=0.9, color='crimson'))) # fill down to xaxis\n",
    "# fig_area2.add_trace(go.Scatter(df_date,df_date_discount, fill='tozeroy',name='discount price',\n",
    "#                                line=dict(width=0.9, color='darkslategray')\n",
    "#                               )) # fill to trace0 y\n",
    "\n",
    "# fig_area2.update_layout(\n",
    "#     xaxis_title=\"Dates\",\n",
    "#     yaxis_title=\"Price (in 1000s)\",\n",
    "#     plot_bgcolor='white'\n",
    "# )\n",
    "# fig_area2.update_xaxes(showline=True, linewidth=1, linecolor='blue', mirror=True)\n",
    "# fig_area2.update_yaxes(showline=True, linewidth=1, linecolor='blue', mirror=True)\n",
    "# fig_area2.show()\n"
   ]
  },
  {
   "cell_type": "code",
   "execution_count": 1,
   "id": "e80a4a56",
   "metadata": {},
   "outputs": [],
   "source": [
    "# grouped.head()"
   ]
  },
  {
   "cell_type": "code",
   "execution_count": 20,
   "id": "18685f9a",
   "metadata": {
    "scrolled": true
   },
   "outputs": [
    {
     "ename": "NameError",
     "evalue": "name 'df_date' is not defined",
     "output_type": "error",
     "traceback": [
      "\u001b[1;31m---------------------------------------------------------------------------\u001b[0m",
      "\u001b[1;31mNameError\u001b[0m                                 Traceback (most recent call last)",
      "\u001b[1;32m~\\AppData\\Local\\Temp\\ipykernel_12720\\3386312333.py\u001b[0m in \u001b[0;36m<module>\u001b[1;34m\u001b[0m\n\u001b[0;32m      8\u001b[0m \u001b[1;31m#for i in range(0,len(df_date_discount)):\u001b[0m\u001b[1;33m\u001b[0m\u001b[1;33m\u001b[0m\u001b[0m\n\u001b[0;32m      9\u001b[0m     \u001b[1;31m#print(df_date_discount[i])\u001b[0m\u001b[1;33m\u001b[0m\u001b[1;33m\u001b[0m\u001b[0m\n\u001b[1;32m---> 10\u001b[1;33m \u001b[0mplt\u001b[0m\u001b[1;33m.\u001b[0m\u001b[0mplot\u001b[0m\u001b[1;33m(\u001b[0m\u001b[0mdf_date\u001b[0m\u001b[1;33m,\u001b[0m\u001b[0mdf_date_discount\u001b[0m\u001b[1;33m,\u001b[0m\u001b[1;34m\"-o\"\u001b[0m\u001b[1;33m,\u001b[0m \u001b[0mc\u001b[0m \u001b[1;33m=\u001b[0m\u001b[1;34m\"red\"\u001b[0m\u001b[1;33m,\u001b[0m \u001b[0mlabel\u001b[0m\u001b[1;33m=\u001b[0m\u001b[1;34m'Discount Price'\u001b[0m\u001b[1;33m)\u001b[0m\u001b[1;33m\u001b[0m\u001b[1;33m\u001b[0m\u001b[0m\n\u001b[0m\u001b[0;32m     11\u001b[0m     \u001b[1;31m# To show the plot\u001b[0m\u001b[1;33m\u001b[0m\u001b[1;33m\u001b[0m\u001b[0m\n\u001b[0;32m     12\u001b[0m \u001b[1;31m#plt.yticks(df_date_discount, rotation ='vertical')\u001b[0m\u001b[1;33m\u001b[0m\u001b[1;33m\u001b[0m\u001b[0m\n",
      "\u001b[1;31mNameError\u001b[0m: name 'df_date' is not defined"
     ]
    }
   ],
   "source": [
    "\n",
    "import matplotlib.pyplot as plt\n",
    "from matplotlib.ticker import MaxNLocator\n",
    "\n",
    "    # Do something with the data\n",
    "#for i in range(0,len(df_date_retail)):\n",
    "    #print(df_date_retail[i])\n",
    "#plt.plot(df_date,df_date_retail,\"-o\", c =\"blue\",label='Retail Price')\n",
    "#for i in range(0,len(df_date_discount)):\n",
    "    #print(df_date_discount[i])\n",
    "plt.plot(df_date,df_date_discount,\"-o\", c =\"red\", label='Discount Price') \n",
    "    # To show the plot\n",
    "#plt.yticks(df_date_discount, rotation ='vertical')\n",
    "plt.legend()\n",
    "plt.show()"
   ]
  },
  {
   "cell_type": "code",
   "execution_count": null,
   "id": "dbf4d93b",
   "metadata": {},
   "outputs": [],
   "source": []
  },
  {
   "cell_type": "code",
   "execution_count": null,
   "id": "46487037",
   "metadata": {},
   "outputs": [],
   "source": []
  },
  {
   "cell_type": "code",
   "execution_count": null,
   "id": "36007b2d",
   "metadata": {},
   "outputs": [],
   "source": []
  }
 ],
 "metadata": {
  "kernelspec": {
   "display_name": "Python 3 (ipykernel)",
   "language": "python",
   "name": "python3"
  },
  "language_info": {
   "codemirror_mode": {
    "name": "ipython",
    "version": 3
   },
   "file_extension": ".py",
   "mimetype": "text/x-python",
   "name": "python",
   "nbconvert_exporter": "python",
   "pygments_lexer": "ipython3",
   "version": "3.9.13"
  }
 },
 "nbformat": 4,
 "nbformat_minor": 5
}
